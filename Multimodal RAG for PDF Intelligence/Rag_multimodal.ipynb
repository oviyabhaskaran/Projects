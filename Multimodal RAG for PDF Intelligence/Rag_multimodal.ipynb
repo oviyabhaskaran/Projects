{
  "cells": [
    {
      "cell_type": "code",
      "execution_count": null,
      "id": "37109082",
      "metadata": {
        "id": "37109082"
      },
      "outputs": [],
      "source": [
        "import fitz  # PyMuPDF\n",
        "from langchain_core.documents import Document\n",
        "from transformers import CLIPProcessor, CLIPModel\n",
        "from PIL import Image\n",
        "import torch\n",
        "import numpy as np\n",
        "from langchain.chat_models import init_chat_model\n",
        "from langchain.prompts import PromptTemplate\n",
        "from langchain.schema.messages import HumanMessage\n",
        "from sklearn.metrics.pairwise import cosine_similarity\n",
        "import os\n",
        "import base64\n",
        "import io\n",
        "from langchain.text_splitter import RecursiveCharacterTextSplitter\n",
        "from langchain_community.vectorstores import FAISS"
      ]
    },
    {
      "cell_type": "code",
      "execution_count": null,
      "id": "747e8579",
      "metadata": {
        "id": "747e8579",
        "outputId": "ecebfc69-d65e-4dd8-a59d-9ec8b6531942"
      },
      "outputs": [
        {
          "name": "stderr",
          "output_type": "stream",
          "text": [
            "Using a slow image processor as `use_fast` is unset and a slow processor was saved with this model. `use_fast=True` will be the default behavior in v4.52, even if the model was saved with a slow processor. This will result in minor differences in outputs. You'll still be able to use a slow processor with `use_fast=False`.\n"
          ]
        },
        {
          "data": {
            "text/plain": [
              "CLIPModel(\n",
              "  (text_model): CLIPTextTransformer(\n",
              "    (embeddings): CLIPTextEmbeddings(\n",
              "      (token_embedding): Embedding(49408, 512)\n",
              "      (position_embedding): Embedding(77, 512)\n",
              "    )\n",
              "    (encoder): CLIPEncoder(\n",
              "      (layers): ModuleList(\n",
              "        (0-11): 12 x CLIPEncoderLayer(\n",
              "          (self_attn): CLIPAttention(\n",
              "            (k_proj): Linear(in_features=512, out_features=512, bias=True)\n",
              "            (v_proj): Linear(in_features=512, out_features=512, bias=True)\n",
              "            (q_proj): Linear(in_features=512, out_features=512, bias=True)\n",
              "            (out_proj): Linear(in_features=512, out_features=512, bias=True)\n",
              "          )\n",
              "          (layer_norm1): LayerNorm((512,), eps=1e-05, elementwise_affine=True)\n",
              "          (mlp): CLIPMLP(\n",
              "            (activation_fn): QuickGELUActivation()\n",
              "            (fc1): Linear(in_features=512, out_features=2048, bias=True)\n",
              "            (fc2): Linear(in_features=2048, out_features=512, bias=True)\n",
              "          )\n",
              "          (layer_norm2): LayerNorm((512,), eps=1e-05, elementwise_affine=True)\n",
              "        )\n",
              "      )\n",
              "    )\n",
              "    (final_layer_norm): LayerNorm((512,), eps=1e-05, elementwise_affine=True)\n",
              "  )\n",
              "  (vision_model): CLIPVisionTransformer(\n",
              "    (embeddings): CLIPVisionEmbeddings(\n",
              "      (patch_embedding): Conv2d(3, 768, kernel_size=(32, 32), stride=(32, 32), bias=False)\n",
              "      (position_embedding): Embedding(50, 768)\n",
              "    )\n",
              "    (pre_layrnorm): LayerNorm((768,), eps=1e-05, elementwise_affine=True)\n",
              "    (encoder): CLIPEncoder(\n",
              "      (layers): ModuleList(\n",
              "        (0-11): 12 x CLIPEncoderLayer(\n",
              "          (self_attn): CLIPAttention(\n",
              "            (k_proj): Linear(in_features=768, out_features=768, bias=True)\n",
              "            (v_proj): Linear(in_features=768, out_features=768, bias=True)\n",
              "            (q_proj): Linear(in_features=768, out_features=768, bias=True)\n",
              "            (out_proj): Linear(in_features=768, out_features=768, bias=True)\n",
              "          )\n",
              "          (layer_norm1): LayerNorm((768,), eps=1e-05, elementwise_affine=True)\n",
              "          (mlp): CLIPMLP(\n",
              "            (activation_fn): QuickGELUActivation()\n",
              "            (fc1): Linear(in_features=768, out_features=3072, bias=True)\n",
              "            (fc2): Linear(in_features=3072, out_features=768, bias=True)\n",
              "          )\n",
              "          (layer_norm2): LayerNorm((768,), eps=1e-05, elementwise_affine=True)\n",
              "        )\n",
              "      )\n",
              "    )\n",
              "    (post_layernorm): LayerNorm((768,), eps=1e-05, elementwise_affine=True)\n",
              "  )\n",
              "  (visual_projection): Linear(in_features=768, out_features=512, bias=False)\n",
              "  (text_projection): Linear(in_features=512, out_features=512, bias=False)\n",
              ")"
            ]
          },
          "execution_count": 2,
          "metadata": {},
          "output_type": "execute_result"
        }
      ],
      "source": [
        "###Clip Model\n",
        "import os\n",
        "from dotenv import load_dotenv\n",
        "load_dotenv()\n",
        "\n",
        "## set up the environment\n",
        "os.environ[\"OPENAI_API_KEY\"]=os.getenv(\"OPENAI_API_KEY\")\n",
        "\n",
        "### initialize the Clip Model for unified embeddings\n",
        "clip_model=CLIPModel.from_pretrained(\"openai/clip-vit-base-patch32\")\n",
        "clip_processor=CLIPProcessor.from_pretrained(\"openai/clip-vit-base-patch32\")\n",
        "clip_model.eval()\n"
      ]
    },
    {
      "cell_type": "code",
      "execution_count": null,
      "id": "255d8983",
      "metadata": {
        "id": "255d8983"
      },
      "outputs": [],
      "source": [
        "### Embedding functions\n",
        "def embed_image(image_data):\n",
        "    \"\"\"Embed image using CLIP\"\"\"\n",
        "    if isinstance(image_data, str):  # If path\n",
        "        image = Image.open(image_data).convert(\"RGB\")\n",
        "    else:  # If PIL Image\n",
        "        image = image_data\n",
        "\n",
        "    inputs=clip_processor(images=image,return_tensors=\"pt\")\n",
        "    with torch.no_grad():\n",
        "        features = clip_model.get_image_features(**inputs)\n",
        "        # Normalize embeddings to unit vector\n",
        "        features = features / features.norm(dim=-1, keepdim=True)\n",
        "        return features.squeeze().numpy()\n",
        "\n",
        "def embed_text(text):\n",
        "    \"\"\"Embed text using CLIP.\"\"\"\n",
        "    inputs = clip_processor(\n",
        "        text=text,\n",
        "        return_tensors=\"pt\",\n",
        "        padding=True,\n",
        "        truncation=True,\n",
        "        max_length=77  # CLIP's max token length\n",
        "    )\n",
        "    with torch.no_grad():\n",
        "        features = clip_model.get_text_features(**inputs)\n",
        "        # Normalize embeddings\n",
        "        features = features / features.norm(dim=-1, keepdim=True)\n",
        "        return features.squeeze().numpy()"
      ]
    },
    {
      "cell_type": "code",
      "execution_count": null,
      "id": "7c48e193",
      "metadata": {
        "id": "7c48e193"
      },
      "outputs": [],
      "source": [
        "## Process PDF\n",
        "pdf_path=\"rag_sample.pdf\"\n",
        "doc=fitz.open(pdf_path)\n",
        "# Storage for all documents and embeddings\n",
        "all_docs = []\n",
        "all_embeddings = []\n",
        "image_data_store = {}  # Store actual image data for LLM\n",
        "\n",
        "# Text splitter\n",
        "splitter = RecursiveCharacterTextSplitter(chunk_size=500, chunk_overlap=100)\n",
        "\n",
        "\n"
      ]
    },
    {
      "cell_type": "code",
      "execution_count": null,
      "id": "bafd533f",
      "metadata": {
        "id": "bafd533f"
      },
      "outputs": [],
      "source": [
        "for i,page in enumerate(doc):\n",
        "    ## process text\n",
        "    text=page.get_text()\n",
        "    if text.strip():\n",
        "        ##create temporary document for splitting\n",
        "        temp_doc = Document(page_content=text, metadata={\"page\": i, \"type\": \"text\"})\n",
        "        text_chunks = splitter.split_documents([temp_doc])\n",
        "\n",
        "        #Embed each chunk using CLIP\n",
        "        for chunk in text_chunks:\n",
        "            embedding = embed_text(chunk.page_content)\n",
        "            all_embeddings.append(embedding)\n",
        "            all_docs.append(chunk)\n",
        "\n",
        "    for img_index, img in enumerate(page.get_images(full=True)):\n",
        "        try:\n",
        "            xref = img[0]\n",
        "            base_image = doc.extract_image(xref)\n",
        "            image_bytes = base_image[\"image\"]\n",
        "\n",
        "            # Convert to PIL Image\n",
        "            pil_image = Image.open(io.BytesIO(image_bytes)).convert(\"RGB\")\n",
        "\n",
        "            # Create unique identifier\n",
        "            image_id = f\"page_{i}_img_{img_index}\"\n",
        "\n",
        "            # Store image as base64 for later use with GPT-4V\n",
        "            buffered = io.BytesIO()\n",
        "            pil_image.save(buffered, format=\"PNG\")\n",
        "            img_base64 = base64.b64encode(buffered.getvalue()).decode()\n",
        "            image_data_store[image_id] = img_base64\n",
        "\n",
        "            # Embed image using CLIP\n",
        "            embedding = embed_image(pil_image)\n",
        "            all_embeddings.append(embedding)\n",
        "\n",
        "            # Create document for image\n",
        "            image_doc = Document(\n",
        "                page_content=f\"[Image: {image_id}]\",\n",
        "                metadata={\"page\": i, \"type\": \"image\", \"image_id\": image_id}\n",
        "            )\n",
        "            all_docs.append(image_doc)\n",
        "\n",
        "        except Exception as e:\n",
        "            print(f\"Error processing image {img_index} on page {i}: {e}\")\n",
        "            continue\n",
        "\n",
        "doc.close()\n"
      ]
    },
    {
      "cell_type": "code",
      "execution_count": null,
      "id": "2cc2958a",
      "metadata": {
        "id": "2cc2958a",
        "outputId": "031cbeb7-9647-4372-cd40-0a1e705a3117"
      },
      "outputs": [
        {
          "data": {
            "text/plain": [
              "[Document(metadata={'page': 0, 'type': 'text'}, page_content='Annual Revenue Overview\\nThis document summarizes the revenue trends across Q1, Q2, and Q3. As illustrated in the chart\\nbelow, revenue grew steadily with the highest growth recorded in Q3.\\nQ1 showed a moderate increase in revenue as new product lines were introduced. Q2 outperformed\\nQ1 due to marketing campaigns. Q3 had exponential growth due to global expansion.'),\n",
              " Document(metadata={'page': 0, 'type': 'image', 'image_id': 'page_0_img_0'}, page_content='[Image: page_0_img_0]')]"
            ]
          },
          "execution_count": 7,
          "metadata": {},
          "output_type": "execute_result"
        }
      ],
      "source": [
        "all_docs"
      ]
    },
    {
      "cell_type": "code",
      "execution_count": null,
      "id": "24c017b9",
      "metadata": {
        "id": "24c017b9",
        "outputId": "393c1701-a02b-42b8-9deb-042fea2ec4ef"
      },
      "outputs": [
        {
          "data": {
            "text/plain": [
              "array([[-0.00267245,  0.01283   , -0.05183139, ..., -0.00385082,\n",
              "         0.02977719, -0.00010684],\n",
              "       [ 0.01732337, -0.01327688, -0.02427033, ...,  0.08994051,\n",
              "        -0.00272155,  0.03253039]], shape=(2, 512), dtype=float32)"
            ]
          },
          "execution_count": 8,
          "metadata": {},
          "output_type": "execute_result"
        }
      ],
      "source": [
        "# Create unified FAISS vector store with CLIP embeddings\n",
        "embeddings_array = np.array(all_embeddings)\n",
        "embeddings_array"
      ]
    },
    {
      "cell_type": "code",
      "execution_count": null,
      "id": "47bd688d",
      "metadata": {
        "id": "47bd688d",
        "outputId": "182d698b-1278-41bb-cb5d-e36ed02c73ee"
      },
      "outputs": [
        {
          "data": {
            "text/plain": [
              "([Document(metadata={'page': 0, 'type': 'text'}, page_content='Annual Revenue Overview\\nThis document summarizes the revenue trends across Q1, Q2, and Q3. As illustrated in the chart\\nbelow, revenue grew steadily with the highest growth recorded in Q3.\\nQ1 showed a moderate increase in revenue as new product lines were introduced. Q2 outperformed\\nQ1 due to marketing campaigns. Q3 had exponential growth due to global expansion.'),\n",
              "  Document(metadata={'page': 0, 'type': 'image', 'image_id': 'page_0_img_0'}, page_content='[Image: page_0_img_0]')],\n",
              " array([[-0.00267245,  0.01283   , -0.05183139, ..., -0.00385082,\n",
              "          0.02977719, -0.00010684],\n",
              "        [ 0.01732337, -0.01327688, -0.02427033, ...,  0.08994051,\n",
              "         -0.00272155,  0.03253039]], shape=(2, 512), dtype=float32))"
            ]
          },
          "execution_count": 9,
          "metadata": {},
          "output_type": "execute_result"
        }
      ],
      "source": [
        "(all_docs,embeddings_array)"
      ]
    },
    {
      "cell_type": "code",
      "execution_count": null,
      "id": "de148a43",
      "metadata": {
        "id": "de148a43",
        "outputId": "32ecc534-2122-4d4d-9927-edee7e9b4ce5"
      },
      "outputs": [
        {
          "name": "stderr",
          "output_type": "stream",
          "text": [
            "`embedding_function` is expected to be an Embeddings object, support for passing in a function will soon be removed.\n"
          ]
        },
        {
          "data": {
            "text/plain": [
              "<langchain_community.vectorstores.faiss.FAISS at 0x1c384f516a0>"
            ]
          },
          "execution_count": 10,
          "metadata": {},
          "output_type": "execute_result"
        }
      ],
      "source": [
        "\n",
        "\n",
        "# Create custom FAISS index since we have precomputed embeddings\n",
        "vector_store = FAISS.from_embeddings(\n",
        "    text_embeddings=[(doc.page_content, emb) for doc, emb in zip(all_docs, embeddings_array)],\n",
        "    embedding=None,  # We're using precomputed embeddings\n",
        "    metadatas=[doc.metadata for doc in all_docs]\n",
        ")\n",
        "vector_store"
      ]
    },
    {
      "cell_type": "code",
      "execution_count": null,
      "id": "aead918a",
      "metadata": {
        "id": "aead918a",
        "outputId": "21750d36-f2f9-4578-cde9-32508aa00913"
      },
      "outputs": [
        {
          "data": {
            "text/plain": [
              "ChatOpenAI(client=<openai.resources.chat.completions.completions.Completions object at 0x000001C42524F770>, async_client=<openai.resources.chat.completions.completions.AsyncCompletions object at 0x000001C4256B82F0>, root_client=<openai.OpenAI object at 0x000001C42524C980>, root_async_client=<openai.AsyncOpenAI object at 0x000001C4256B8050>, model_name='gpt-4.1', model_kwargs={}, openai_api_key=SecretStr('**********'))"
            ]
          },
          "execution_count": 11,
          "metadata": {},
          "output_type": "execute_result"
        }
      ],
      "source": [
        "# Initialize GPT-4 Vision model\n",
        "llm = init_chat_model(\"openai:gpt-4.1\")\n",
        "llm"
      ]
    },
    {
      "cell_type": "code",
      "execution_count": null,
      "id": "366ea313",
      "metadata": {
        "id": "366ea313"
      },
      "outputs": [],
      "source": [
        "def retrieve_multimodal(query, k=5):\n",
        "    \"\"\"Unified retrieval using CLIP embeddings for both text and images.\"\"\"\n",
        "    # Embed query using CLIP\n",
        "    query_embedding = embed_text(query)\n",
        "\n",
        "    # Search in unified vector store\n",
        "    results = vector_store.similarity_search_by_vector(\n",
        "        embedding=query_embedding,\n",
        "        k=k\n",
        "    )\n",
        "\n",
        "    return results"
      ]
    },
    {
      "cell_type": "code",
      "execution_count": null,
      "id": "8b73a041",
      "metadata": {
        "id": "8b73a041"
      },
      "outputs": [],
      "source": [
        "def create_multimodal_message(query, retrieved_docs):\n",
        "    \"\"\"Create a message with both text and images for GPT-4V.\"\"\"\n",
        "    content = []\n",
        "\n",
        "    # Add the query\n",
        "    content.append({\n",
        "        \"type\": \"text\",\n",
        "        \"text\": f\"Question: {query}\\n\\nContext:\\n\"\n",
        "    })\n",
        "\n",
        "    # Separate text and image documents\n",
        "    text_docs = [doc for doc in retrieved_docs if doc.metadata.get(\"type\") == \"text\"]\n",
        "    image_docs = [doc for doc in retrieved_docs if doc.metadata.get(\"type\") == \"image\"]\n",
        "\n",
        "    # Add text context\n",
        "    if text_docs:\n",
        "        text_context = \"\\n\\n\".join([\n",
        "            f\"[Page {doc.metadata['page']}]: {doc.page_content}\"\n",
        "            for doc in text_docs\n",
        "        ])\n",
        "        content.append({\n",
        "            \"type\": \"text\",\n",
        "            \"text\": f\"Text excerpts:\\n{text_context}\\n\"\n",
        "        })\n",
        "\n",
        "    # Add images\n",
        "    for doc in image_docs:\n",
        "        image_id = doc.metadata.get(\"image_id\")\n",
        "        if image_id and image_id in image_data_store:\n",
        "            content.append({\n",
        "                \"type\": \"text\",\n",
        "                \"text\": f\"\\n[Image from page {doc.metadata['page']}]:\\n\"\n",
        "            })\n",
        "            content.append({\n",
        "                \"type\": \"image_url\",\n",
        "                \"image_url\": {\n",
        "                    \"url\": f\"data:image/png;base64,{image_data_store[image_id]}\"\n",
        "                }\n",
        "            })\n",
        "\n",
        "    # Add instruction\n",
        "    content.append({\n",
        "        \"type\": \"text\",\n",
        "        \"text\": \"\\n\\nPlease answer the question based on the provided text and images.\"\n",
        "    })\n",
        "\n",
        "    return HumanMessage(content=content)"
      ]
    },
    {
      "cell_type": "code",
      "execution_count": null,
      "id": "97a27ac2",
      "metadata": {
        "id": "97a27ac2"
      },
      "outputs": [],
      "source": [
        "def multimodal_pdf_rag_pipeline(query):\n",
        "    \"\"\"Main pipeline for multimodal RAG.\"\"\"\n",
        "    # Retrieve relevant documents\n",
        "    context_docs = retrieve_multimodal(query, k=5)\n",
        "\n",
        "    # Create multimodal message\n",
        "    message = create_multimodal_message(query, context_docs)\n",
        "\n",
        "    # Get response from GPT-4V\n",
        "    response = llm.invoke([message])\n",
        "\n",
        "    # Print retrieved context info\n",
        "    print(f\"\\nRetrieved {len(context_docs)} documents:\")\n",
        "    for doc in context_docs:\n",
        "        doc_type = doc.metadata.get(\"type\", \"unknown\")\n",
        "        page = doc.metadata.get(\"page\", \"?\")\n",
        "        if doc_type == \"text\":\n",
        "            preview = doc.page_content[:100] + \"...\" if len(doc.page_content) > 100 else doc.page_content\n",
        "            print(f\"  - Text from page {page}: {preview}\")\n",
        "        else:\n",
        "            print(f\"  - Image from page {page}\")\n",
        "    print(\"\\n\")\n",
        "\n",
        "    return response.content"
      ]
    },
    {
      "cell_type": "code",
      "execution_count": null,
      "id": "c352f248",
      "metadata": {
        "id": "c352f248",
        "outputId": "78ce9791-7429-4035-d0af-6760f3b5b461"
      },
      "outputs": [
        {
          "name": "stdout",
          "output_type": "stream",
          "text": [
            "\n",
            "Query: What does the chart on page 1 show about revenue trends?\n",
            "--------------------------------------------------\n",
            "\n",
            "Retrieved 2 documents:\n",
            "  - Text from page 0: Annual Revenue Overview\n",
            "This document summarizes the revenue trends across Q1, Q2, and Q3. As illust...\n",
            "  - Image from page 0\n",
            "\n",
            "\n",
            "Answer: The chart on page 1 shows that revenue increased steadily over the three quarters. Q1 had the lowest revenue (blue bar), Q2 saw a higher revenue (green bar), and Q3 had the highest revenue (red bar). The most significant jump in revenue occurred between Q2 and Q3, indicating strong growth in the third quarter. This matches the text, which mentions steady growth with exponential revenue growth in Q3 due to global expansion.\n",
            "======================================================================\n",
            "\n",
            "Query: Summarize the main findings from the document\n",
            "--------------------------------------------------\n",
            "\n",
            "Retrieved 2 documents:\n",
            "  - Text from page 0: Annual Revenue Overview\n",
            "This document summarizes the revenue trends across Q1, Q2, and Q3. As illust...\n",
            "  - Image from page 0\n",
            "\n",
            "\n",
            "Answer: **Main Findings Summary:**\n",
            "\n",
            "- **Steady Revenue Growth:** The document shows that revenue increased consistently over the three quarters (Q1–Q3).\n",
            "- **Q1:** Revenue moderately increased, driven by the introduction of new product lines.\n",
            "- **Q2:** Revenue surpassed Q1, primarily due to effective marketing campaigns.\n",
            "- **Q3:** There was exponential revenue growth, mainly attributed to global market expansion.\n",
            "- **Chart Visualization:** The included bar chart visually confirms that each quarter outperformed the previous one, with Q3 having the highest revenue.\n",
            "\n",
            "**Conclusion:**  \n",
            "Revenue improved each quarter, with the fastest growth in Q3, thanks to new products, marketing, and international expansion.\n",
            "======================================================================\n",
            "\n",
            "Query: What visual elements are present in the document?\n",
            "--------------------------------------------------\n",
            "\n",
            "Retrieved 2 documents:\n",
            "  - Text from page 0: Annual Revenue Overview\n",
            "This document summarizes the revenue trends across Q1, Q2, and Q3. As illust...\n",
            "  - Image from page 0\n",
            "\n",
            "\n",
            "Answer: The document contains the following **visual elements**:\n",
            "\n",
            "1. **Bar Chart**: There is a bar chart with three vertical bars.\n",
            "    - The bars are colored (from left to right): **blue**, **green**, and **red**.\n",
            "    - The heights of the bars increase from left to right, visually representing growth across three quarters.\n",
            "\n",
            "These visual elements align with the context provided in the text, which discusses revenue growth across Q1 (blue), Q2 (green), and Q3 (red). The chart uses color and height to visually emphasize the revenue increases quarter over quarter, with Q3 having the highest bar.\n",
            "======================================================================\n"
          ]
        }
      ],
      "source": [
        "if __name__ == \"__main__\":\n",
        "    # Example queries\n",
        "    queries = [\n",
        "        \"What does the chart on page 1 show about revenue trends?\",\n",
        "        \"Summarize the main findings from the document\",\n",
        "        \"What visual elements are present in the document?\"\n",
        "    ]\n",
        "\n",
        "    for query in queries:\n",
        "        print(f\"\\nQuery: {query}\")\n",
        "        print(\"-\" * 50)\n",
        "        answer = multimodal_pdf_rag_pipeline(query)\n",
        "        print(f\"Answer: {answer}\")\n",
        "        print(\"=\" * 70)"
      ]
    }
  ],
  "metadata": {
    "kernelspec": {
      "display_name": "RAGUdemy",
      "language": "python",
      "name": "python3"
    },
    "language_info": {
      "codemirror_mode": {
        "name": "ipython",
        "version": 3
      },
      "file_extension": ".py",
      "mimetype": "text/x-python",
      "name": "python",
      "nbconvert_exporter": "python",
      "pygments_lexer": "ipython3",
      "version": "3.13.2"
    },
    "colab": {
      "provenance": []
    }
  },
  "nbformat": 4,
  "nbformat_minor": 5
}